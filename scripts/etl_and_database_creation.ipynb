{
 "cells": [
  {
   "cell_type": "code",
   "execution_count": 1,
   "id": "2c4755e9",
   "metadata": {},
   "outputs": [],
   "source": [
    "# Import dependencies\n",
    "import pandas as pd\n",
    "import numpy as np\n",
    "from sqlalchemy import create_engine, Column, Integer, String, Date\n",
    "from sqlalchemy.ext.declarative import declarative_base\n",
    "import os\n",
    "\n",
    "pd.set_option('max_colwidth', 400)"
   ]
  },
  {
   "cell_type": "code",
   "execution_count": 2,
   "id": "aa825c9d",
   "metadata": {},
   "outputs": [],
   "source": [
    "# load csv file\n",
    "cwd = os.getcwd()\n",
    "complaints_info_df = pd.read_csv('../Resources/complaints_uploaded.csv')\n",
    "\n",
    "# filter to only the columns that we are interested in\n",
    "\n",
    "names = ['Date received','Product','Company','Date sent to company','Company response to consumer','Complaint ID']\n",
    "new_df = complaints_info_df[names]"
   ]
  },
  {
   "cell_type": "code",
   "execution_count": 3,
   "id": "aab43b93",
   "metadata": {},
   "outputs": [],
   "source": [
    "# rename the columns to developer friendly names\n",
    "rename = {'Date received':'date_received' ,'Product':'product', 'Company':'company',\n",
    "          'Date sent to company': 'date_sent_to_company','Company response to consumer': 'company_response_to_consumer',\n",
    "          'Complaint ID': 'complaint_ID'}\n",
    "cleaned_df = new_df.rename(columns = rename)"
   ]
  },
  {
   "cell_type": "code",
   "execution_count": 4,
   "id": "7190fae0",
   "metadata": {},
   "outputs": [
    {
     "data": {
      "text/plain": [
       "925182"
      ]
     },
     "execution_count": 4,
     "metadata": {},
     "output_type": "execute_result"
    }
   ],
   "source": [
    "# get number of rows\n",
    "cleaned_df.shape[0]"
   ]
  },
  {
   "cell_type": "code",
   "execution_count": 5,
   "id": "cbf2d01d",
   "metadata": {},
   "outputs": [],
   "source": [
    "# drop rows with missing data\n",
    "cleaned_df = cleaned_df.dropna()"
   ]
  },
  {
   "cell_type": "code",
   "execution_count": 6,
   "id": "2adeb7fa",
   "metadata": {},
   "outputs": [
    {
     "data": {
      "text/plain": [
       "925182"
      ]
     },
     "execution_count": 6,
     "metadata": {},
     "output_type": "execute_result"
    }
   ],
   "source": [
    "# get number of rows\n",
    "cleaned_df.shape[0]"
   ]
  },
  {
   "cell_type": "code",
   "execution_count": 7,
   "id": "a3f93c2f",
   "metadata": {},
   "outputs": [
    {
     "data": {
      "text/plain": [
       "date_received                   object\n",
       "product                         object\n",
       "company                         object\n",
       "date_sent_to_company            object\n",
       "company_response_to_consumer    object\n",
       "complaint_ID                     int64\n",
       "dtype: object"
      ]
     },
     "execution_count": 7,
     "metadata": {},
     "output_type": "execute_result"
    }
   ],
   "source": [
    "# check all the data types for all the columns\n",
    "cleaned_df.dtypes"
   ]
  },
  {
   "cell_type": "code",
   "execution_count": 8,
   "id": "8292a118",
   "metadata": {},
   "outputs": [
    {
     "data": {
      "text/plain": [
       "date_received                   datetime64[ns]\n",
       "product                                 object\n",
       "company                                 object\n",
       "date_sent_to_company            datetime64[ns]\n",
       "company_response_to_consumer            object\n",
       "complaint_ID                             int64\n",
       "dtype: object"
      ]
     },
     "execution_count": 8,
     "metadata": {},
     "output_type": "execute_result"
    }
   ],
   "source": [
    "# chnage the to datetime objects\n",
    "cleaned_df[\"date_received\"] = pd.to_datetime(cleaned_df[\"date_received\"])\n",
    "cleaned_df[\"date_sent_to_company\"] = pd.to_datetime(cleaned_df[\"date_sent_to_company\"])\n",
    "cleaned_df.dtypes"
   ]
  },
  {
   "cell_type": "code",
   "execution_count": 9,
   "id": "0831bda1",
   "metadata": {},
   "outputs": [],
   "source": [
    "# sort table by date_received\n",
    "cleaned_df = cleaned_df.sort_values(by = [\"date_received\"], ignore_index = True)"
   ]
  },
  {
   "cell_type": "code",
   "execution_count": 10,
   "id": "1e33ae33",
   "metadata": {},
   "outputs": [
    {
     "data": {
      "text/html": [
       "<div>\n",
       "<style scoped>\n",
       "    .dataframe tbody tr th:only-of-type {\n",
       "        vertical-align: middle;\n",
       "    }\n",
       "\n",
       "    .dataframe tbody tr th {\n",
       "        vertical-align: top;\n",
       "    }\n",
       "\n",
       "    .dataframe thead th {\n",
       "        text-align: right;\n",
       "    }\n",
       "</style>\n",
       "<table border=\"1\" class=\"dataframe\">\n",
       "  <thead>\n",
       "    <tr style=\"text-align: right;\">\n",
       "      <th></th>\n",
       "      <th>date_received</th>\n",
       "      <th>product</th>\n",
       "      <th>company</th>\n",
       "      <th>date_sent_to_company</th>\n",
       "      <th>company_response_to_consumer</th>\n",
       "      <th>complaint_ID</th>\n",
       "    </tr>\n",
       "  </thead>\n",
       "  <tbody>\n",
       "    <tr>\n",
       "      <th>0</th>\n",
       "      <td>2022-04-01</td>\n",
       "      <td>Checking or savings account</td>\n",
       "      <td>WELLS FARGO &amp; COMPANY</td>\n",
       "      <td>2022-04-01</td>\n",
       "      <td>Closed with explanation</td>\n",
       "      <td>5396097</td>\n",
       "    </tr>\n",
       "    <tr>\n",
       "      <th>1</th>\n",
       "      <td>2022-04-01</td>\n",
       "      <td>Credit reporting, credit repair services, or other personal consumer reports</td>\n",
       "      <td>EQUIFAX, INC.</td>\n",
       "      <td>2022-04-01</td>\n",
       "      <td>Closed with explanation</td>\n",
       "      <td>5391803</td>\n",
       "    </tr>\n",
       "    <tr>\n",
       "      <th>2</th>\n",
       "      <td>2022-04-01</td>\n",
       "      <td>Credit reporting, credit repair services, or other personal consumer reports</td>\n",
       "      <td>TRANSUNION INTERMEDIATE HOLDINGS, INC.</td>\n",
       "      <td>2022-04-01</td>\n",
       "      <td>Closed with non-monetary relief</td>\n",
       "      <td>5393784</td>\n",
       "    </tr>\n",
       "    <tr>\n",
       "      <th>3</th>\n",
       "      <td>2022-04-01</td>\n",
       "      <td>Debt collection</td>\n",
       "      <td>Resurgent Capital Services L.P.</td>\n",
       "      <td>2022-04-01</td>\n",
       "      <td>Closed with explanation</td>\n",
       "      <td>5393812</td>\n",
       "    </tr>\n",
       "    <tr>\n",
       "      <th>4</th>\n",
       "      <td>2022-04-01</td>\n",
       "      <td>Credit reporting, credit repair services, or other personal consumer reports</td>\n",
       "      <td>CL Holdings LLC</td>\n",
       "      <td>2022-04-01</td>\n",
       "      <td>Closed with explanation</td>\n",
       "      <td>5395816</td>\n",
       "    </tr>\n",
       "  </tbody>\n",
       "</table>\n",
       "</div>"
      ],
      "text/plain": [
       "  date_received  \\\n",
       "0    2022-04-01   \n",
       "1    2022-04-01   \n",
       "2    2022-04-01   \n",
       "3    2022-04-01   \n",
       "4    2022-04-01   \n",
       "\n",
       "                                                                        product  \\\n",
       "0                                                   Checking or savings account   \n",
       "1  Credit reporting, credit repair services, or other personal consumer reports   \n",
       "2  Credit reporting, credit repair services, or other personal consumer reports   \n",
       "3                                                               Debt collection   \n",
       "4  Credit reporting, credit repair services, or other personal consumer reports   \n",
       "\n",
       "                                  company date_sent_to_company  \\\n",
       "0                   WELLS FARGO & COMPANY           2022-04-01   \n",
       "1                           EQUIFAX, INC.           2022-04-01   \n",
       "2  TRANSUNION INTERMEDIATE HOLDINGS, INC.           2022-04-01   \n",
       "3         Resurgent Capital Services L.P.           2022-04-01   \n",
       "4                         CL Holdings LLC           2022-04-01   \n",
       "\n",
       "      company_response_to_consumer  complaint_ID  \n",
       "0          Closed with explanation       5396097  \n",
       "1          Closed with explanation       5391803  \n",
       "2  Closed with non-monetary relief       5393784  \n",
       "3          Closed with explanation       5393812  \n",
       "4          Closed with explanation       5395816  "
      ]
     },
     "execution_count": 10,
     "metadata": {},
     "output_type": "execute_result"
    }
   ],
   "source": [
    "cleaned_df.head(5)"
   ]
  },
  {
   "cell_type": "code",
   "execution_count": 11,
   "id": "e539241c",
   "metadata": {},
   "outputs": [
    {
     "data": {
      "text/plain": [
       "array(['Checking or savings account',\n",
       "       'Credit reporting, credit repair services, or other personal consumer reports',\n",
       "       'Debt collection', 'Mortgage', 'Student loan',\n",
       "       'Credit card or prepaid card',\n",
       "       'Money transfer, virtual currency, or money service',\n",
       "       'Payday loan, title loan, or personal loan',\n",
       "       'Vehicle loan or lease'], dtype=object)"
      ]
     },
     "execution_count": 11,
     "metadata": {},
     "output_type": "execute_result"
    }
   ],
   "source": [
    "# check all distinct values of product column\n",
    "cleaned_df[\"product\"].unique()"
   ]
  },
  {
   "cell_type": "code",
   "execution_count": 12,
   "id": "18577255",
   "metadata": {},
   "outputs": [
    {
     "data": {
      "text/plain": [
       "3267"
      ]
     },
     "execution_count": 12,
     "metadata": {},
     "output_type": "execute_result"
    }
   ],
   "source": [
    "# number of companies\n",
    "cleaned_df['company'].nunique()"
   ]
  },
  {
   "cell_type": "code",
   "execution_count": 13,
   "id": "561d0556",
   "metadata": {},
   "outputs": [
    {
     "data": {
      "text/plain": [
       "925182"
      ]
     },
     "execution_count": 13,
     "metadata": {},
     "output_type": "execute_result"
    }
   ],
   "source": [
    "cleaned_df.shape[0]"
   ]
  },
  {
   "cell_type": "code",
   "execution_count": 14,
   "id": "d315797f",
   "metadata": {},
   "outputs": [],
   "source": [
    "cleaned_df.to_csv('../Resources/cleaned.csv', encoding='utf-8', index=False)"
   ]
  },
  {
   "cell_type": "code",
   "execution_count": 15,
   "id": "efbe694f",
   "metadata": {},
   "outputs": [],
   "source": [
    "# Create our database engine\n",
    "engine = create_engine('sqlite:///../Resources/complaints.sqlite')"
   ]
  },
  {
   "cell_type": "code",
   "execution_count": 16,
   "id": "bbad0e6a",
   "metadata": {},
   "outputs": [
    {
     "data": {
      "text/plain": [
       "925182"
      ]
     },
     "execution_count": 16,
     "metadata": {},
     "output_type": "execute_result"
    }
   ],
   "source": [
    "# Read data from CSV and load into a dataframe object\n",
    "data = pd.read_csv('../Resources/cleaned.csv')\n",
    " \n",
    "# Write data into the table in PostgreSQL database\n",
    "data.to_sql('complaints',engine, if_exists = \"append\", index = False)"
   ]
  },
  {
   "cell_type": "code",
   "execution_count": 17,
   "id": "a9166099",
   "metadata": {},
   "outputs": [
    {
     "data": {
      "text/plain": [
       "[('2022-04-01', 'Checking or savings account', 'WELLS FARGO & COMPANY', '2022-04-01', 'Closed with explanation', 5396097),\n",
       " ('2022-04-01', 'Credit reporting, credit repair services, or other personal consumer reports', 'EQUIFAX, INC.', '2022-04-01', 'Closed with explanation', 5391803),\n",
       " ('2022-04-01', 'Credit reporting, credit repair services, or other personal consumer reports', 'TRANSUNION INTERMEDIATE HOLDINGS, INC.', '2022-04-01', 'Closed with non-monetary relief', 5393784),\n",
       " ('2022-04-01', 'Debt collection', 'Resurgent Capital Services L.P.', '2022-04-01', 'Closed with explanation', 5393812),\n",
       " ('2022-04-01', 'Credit reporting, credit repair services, or other personal consumer reports', 'CL Holdings LLC', '2022-04-01', 'Closed with explanation', 5395816)]"
      ]
     },
     "execution_count": 17,
     "metadata": {},
     "output_type": "execute_result"
    }
   ],
   "source": [
    "# test to see if the data was uploaded\n",
    "engine.execute('select * from complaints LIMIT 5').fetchall()"
   ]
  },
  {
   "cell_type": "code",
   "execution_count": null,
   "id": "55bd8542",
   "metadata": {},
   "outputs": [],
   "source": []
  }
 ],
 "metadata": {
  "kernelspec": {
   "display_name": "Python 3 (ipykernel)",
   "language": "python",
   "name": "python3"
  },
  "language_info": {
   "codemirror_mode": {
    "name": "ipython",
    "version": 3
   },
   "file_extension": ".py",
   "mimetype": "text/x-python",
   "name": "python",
   "nbconvert_exporter": "python",
   "pygments_lexer": "ipython3",
   "version": "3.9.13"
  },
  "vscode": {
   "interpreter": {
    "hash": "31f2aee4e71d21fbe5cf8b01ff0e069b9275f58929596ceb00d14d90e3e16cd6"
   }
  }
 },
 "nbformat": 4,
 "nbformat_minor": 5
}
